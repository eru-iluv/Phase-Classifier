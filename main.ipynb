{
 "cells": [
  {
   "cell_type": "markdown",
   "metadata": {},
   "source": [
    "# Revisão do artigo “Model-independent quantum phases classifier”"
   ]
  },
  {
   "cell_type": "markdown",
   "metadata": {},
   "source": [
    "## Modelos Físicos\n",
    "\n",
    "Foram usados os hamiltonianos a seguir\n",
    "\n",
    "- cadeias XXZ com anisotropia de ion uniaxial ($H_1$), dado por:\n",
    "\n",
    "$$\\mathcal{H_1} = \\sum^N_{l=1}[J(S_l^xS_{l+1}^x + S^y_lS^y_{l+1}) + J_zS_l^zS_{l+1}^z] + D \\sum^N_{l=1}S_l^{z2} $$\n",
    "\n",
    "Onde $S_l$ é o operador spin-1 agindo sobre o sítio $l$ de uma cadeia de $N$ sítios. D representa a anisotropia de ion único e $J=1, J_z$ são os acoplamentos entre os spins. O diagrama de fase desse sistema contém: Haldane, Large D, XY1, XY2, Ferromagnético e Néel.\n",
    "\n",
    "- cadeia de vínculo alternante XXZ ($H_2$). O Hamiltoniano é dado por: \n",
    "\n",
    "$$\\mathcal{H_2} = \\sum^N_{l=1}\\left[1-\\delta(-1)^l\\right](S_l^xS_{l+1}^x + S^y_lS^y_{l+1} + \\Delta S_l^zS_{l+1}^z) $$\n",
    "\n",
    "Aqui, $\\Delta$ representa a força a anisotropia de Ising da interação spin órbita no material magnético. Já  o termo $\\delta$ representa o vínculo alternante que descreve dimerização.\n",
    "\n",
    "Tal sistema apresenta fase ferromagnéica, XX1, Néel, Haldane e Dimerizada.\n",
    "\n",
    "- Cadeia biquadrática linear ($H_3$), dada por\n",
    "\n",
    "$$\\mathcal{H_2} = \\sum^N_{l=1}[\\cos \\theta (S_l S_{l+1}) + \\sin\\theta (S_l S_{l+1})]$$\n",
    "\n",
    "com $\\theta \\in [0,2\\pi)$ representa o vínculo entre vizinhos. Esse modelo apresenta Haldane, Trimerizado, Ferromagnético e Dimerizado."
   ]
  },
  {
   "cell_type": "markdown",
   "metadata": {},
   "source": [
    "### Implementação do modelos\n",
    "\n",
    "Os modelos foram implementados no arquivo `hamiltonians.py`, usando POO. Os modelos são construídos baseados em uma classe `Hamiltonian`."
   ]
  },
  {
   "cell_type": "markdown",
   "metadata": {},
   "source": []
  },
  {
   "cell_type": "code",
   "execution_count": 1,
   "metadata": {},
   "outputs": [],
   "source": [
    "import hamiltonians"
   ]
  },
  {
   "cell_type": "markdown",
   "metadata": {},
   "source": [
    "### Parâmetros dos modelos:\n",
    "\n",
    "Os parâmetros utilizados no modelo estão a seguir"
   ]
  },
  {
   "cell_type": "code",
   "execution_count": 2,
   "metadata": {},
   "outputs": [],
   "source": [
    "import numpy as np"
   ]
  },
  {
   "cell_type": "code",
   "execution_count": 3,
   "metadata": {},
   "outputs": [],
   "source": [
    "# H1 parameters\n",
    "H_1_parameters = np.arange(-4, 4, 0.1)\n",
    "Jzs, Ds = H_1_parameters, H_1_parameters\n",
    "\n",
    "# H2 parameters\n",
    "Deltas = np.arange(0,1, 0.005)\n",
    "deltas = np.arange(-1.5,2.5, 0.0125)\n",
    "\n",
    "# H3 parameters\n",
    "thetas = np.arange(0,2*np.pi,0.001*np.pi)\n"
   ]
  },
  {
   "cell_type": "markdown",
   "metadata": {},
   "source": [
    "## Correladores\n",
    "\n",
    "Os modelos foram implementados no arquivo `correlators.py`, usando POO. A ideia de deixar separado do hamiltoniano é para não precisarmos inicializar os correladores caso não queiramos mudar o número de spin."
   ]
  },
  {
   "cell_type": "code",
   "execution_count": 4,
   "metadata": {},
   "outputs": [],
   "source": [
    "import correlators"
   ]
  },
  {
   "cell_type": "markdown",
   "metadata": {},
   "source": [
    "## Coleta de dados"
   ]
  },
  {
   "cell_type": "markdown",
   "metadata": {},
   "source": [
    "### H1"
   ]
  },
  {
   "cell_type": "code",
   "execution_count": 5,
   "metadata": {},
   "outputs": [
    {
     "ename": "AttributeError",
     "evalue": "module 'scipy.sparse.linalg' has no attribute 'eighs'",
     "output_type": "error",
     "traceback": [
      "\u001b[0;31m---------------------------------------------------------------------------\u001b[0m",
      "\u001b[0;31mAttributeError\u001b[0m                            Traceback (most recent call last)",
      "Cell \u001b[0;32mIn[5], line 14\u001b[0m\n\u001b[1;32m     12\u001b[0m data \u001b[38;5;241m=\u001b[39m [Jz, D]\n\u001b[1;32m     13\u001b[0m H1 \u001b[38;5;241m=\u001b[39m hamiltonians\u001b[38;5;241m.\u001b[39mXXZUniaxialSingleIonAnisotropy(N, Jz, D)\n\u001b[0;32m---> 14\u001b[0m gstate \u001b[38;5;241m=\u001b[39m \u001b[43mH1\u001b[49m\u001b[38;5;241;43m.\u001b[39;49m\u001b[43mgstate\u001b[49m\n\u001b[1;32m     15\u001b[0m \u001b[38;5;28;01mfor\u001b[39;00m i \u001b[38;5;129;01min\u001b[39;00m \u001b[38;5;28mrange\u001b[39m(n_sup):\n\u001b[1;32m     16\u001b[0m     data\u001b[38;5;241m.\u001b[39mappend(gstate\u001b[38;5;241m.\u001b[39mT \u001b[38;5;241m@\u001b[39m corr\u001b[38;5;241m.\u001b[39mS1Six(i) \u001b[38;5;241m@\u001b[39m gstate)\n",
      "File \u001b[0;32m~/Documents/Faculdade/tcc/codigo/hamiltonians.py:38\u001b[0m, in \u001b[0;36mHamiltonian.gstate\u001b[0;34m(self)\u001b[0m\n\u001b[1;32m     35\u001b[0m \u001b[38;5;129m@property\u001b[39m\n\u001b[1;32m     36\u001b[0m \u001b[38;5;28;01mdef\u001b[39;00m \u001b[38;5;21mgstate\u001b[39m(\u001b[38;5;28mself\u001b[39m) \u001b[38;5;241m-\u001b[39m\u001b[38;5;241m>\u001b[39m np\u001b[38;5;241m.\u001b[39mcomplex128:\n\u001b[1;32m     37\u001b[0m     \u001b[38;5;28;01mif\u001b[39;00m \u001b[38;5;28mself\u001b[39m\u001b[38;5;241m.\u001b[39m_gstate \u001b[38;5;129;01mis\u001b[39;00m \u001b[38;5;28;01mNone\u001b[39;00m:\n\u001b[0;32m---> 38\u001b[0m         \u001b[38;5;28mself\u001b[39m\u001b[38;5;241m.\u001b[39m_gstate \u001b[38;5;241m=\u001b[39m \u001b[43mlinalg\u001b[49m\u001b[38;5;241;43m.\u001b[39;49m\u001b[43meighs\u001b[49m(\u001b[38;5;28mself\u001b[39m\u001b[38;5;241m.\u001b[39m_matrix, k\u001b[38;5;241m=\u001b[39m\u001b[38;5;241m1\u001b[39m, which\u001b[38;5;241m=\u001b[39m\u001b[38;5;124m'\u001b[39m\u001b[38;5;124mLM\u001b[39m\u001b[38;5;124m'\u001b[39m)[\u001b[38;5;241m1\u001b[39m][:,\u001b[38;5;241m0\u001b[39m]\n\u001b[1;32m     39\u001b[0m     \u001b[38;5;28;01mreturn\u001b[39;00m \u001b[38;5;28mself\u001b[39m\u001b[38;5;241m.\u001b[39m_gstate\n",
      "\u001b[0;31mAttributeError\u001b[0m: module 'scipy.sparse.linalg' has no attribute 'eighs'"
     ]
    }
   ],
   "source": [
    "N = 4\n",
    "n_sup = int(N/2+1)\n",
    "\n",
    "with open(f\"data/H1/N={N}.csv\", 'w') as fh:\n",
    "    fh.write(\"Jz, D, \" + \", \".join([f\"S1S{i}{j}\" for i in range(1, n_sup+1) for j in ['x', 'y', 'z']]) + \", \"+\n",
    "    \", \".join([f\"prodSi{j}\" for j in ['x', 'y', 'z']]))\n",
    "\n",
    "    corr = correlators.Correlators(N)\n",
    "\n",
    "    for Jz in Jzs:\n",
    "        for D in Ds:\n",
    "            data = [Jz, D]\n",
    "            H1 = hamiltonians.XXZUniaxialSingleIonAnisotropy(N, Jz, D)\n",
    "            gstate = H1.gstate\n",
    "            for i in range(n_sup):\n",
    "                data.append(gstate.T @ corr.S1Six(i) @ gstate)\n",
    "                data.append(gstate.T @ corr.S1Siy(i) @ gstate)\n",
    "                data.append(gstate.T @ corr.S1Siz(i) @ gstate)\n",
    "            \n",
    "            data.append(gstate.T @ corr.prodSix @ gstate)\n",
    "            data.append(gstate.T @ corr.prodSiy @ gstate)\n",
    "            data.append(gstate.T @ corr.prodSiz @ gstate)\n",
    "\n",
    "            fh.write(\"\\n\"+\", \".join([str(i) for i in data]))"
   ]
  },
  {
   "cell_type": "code",
   "execution_count": null,
   "metadata": {},
   "outputs": [],
   "source": []
  }
 ],
 "metadata": {
  "kernelspec": {
   "display_name": "Python 3",
   "language": "python",
   "name": "python3"
  },
  "language_info": {
   "codemirror_mode": {
    "name": "ipython",
    "version": 3
   },
   "file_extension": ".py",
   "mimetype": "text/x-python",
   "name": "python",
   "nbconvert_exporter": "python",
   "pygments_lexer": "ipython3",
   "version": "3.10.12"
  }
 },
 "nbformat": 4,
 "nbformat_minor": 2
}
