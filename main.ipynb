{
 "cells": [
  {
   "cell_type": "markdown",
   "metadata": {},
   "source": [
    "# Revisão do artigo “Model-independent quantum phases classifier”"
   ]
  },
  {
   "cell_type": "code",
   "execution_count": 44,
   "metadata": {},
   "outputs": [],
   "source": [
    "import numpy as np\n",
    "import pandas as pd\n",
    "import utils\n",
    "import matplotlib.pyplot as plt\n",
    "from sklearn.preprocessing import MinMaxScaler, StandardScaler, Normalizer\n",
    "from sklearn.decomposition import PCA\n",
    "from sklearn.neighbors import KNeighborsClassifier"
   ]
  },
  {
   "cell_type": "markdown",
   "metadata": {},
   "source": [
    "## Modelos Físicos\n",
    "\n",
    "Foram usados os hamiltonianos a seguir\n",
    "\n",
    "- cadeias XXZ com anisotropia de ion uniaxial ($H_1$), dado por:\n",
    "\n",
    "$$\\mathcal{H_1} = \\sum^N_{l=1}[J(S_l^xS_{l+1}^x + S^y_lS^y_{l+1}) + J_zS_l^zS_{l+1}^z] + D \\sum^N_{l=1}S_l^{z2} $$\n",
    "\n",
    "Onde $S_l$ é o operador spin-1 agindo sobre o sítio $l$ de uma cadeia de $N$ sítios. D representa a anisotropia de ion único e $J=1, J_z$ são os acoplamentos entre os spins. O diagrama de fase desse sistema contém: Haldane, Large D, XY1, XY2, Ferromagnético e Néel.\n",
    "\n",
    "- cadeia de vínculo alternante XXZ ($H_2$). O Hamiltoniano é dado por: \n",
    "\n",
    "$$\\mathcal{H_2} = \\sum^N_{l=1}\\left[1-\\delta(-1)^l\\right](S_l^xS_{l+1}^x + S^y_lS^y_{l+1} + \\Delta S_l^zS_{l+1}^z) $$\n",
    "\n",
    "Aqui, $\\Delta$ representa a força a anisotropia de Ising da interação spin órbita no material magnético. Já  o termo $\\delta$ representa o vínculo alternante que descreve dimerização.\n",
    "\n",
    "Tal sistema apresenta fase ferromagnéica, XX1, Néel, Haldane e Dimerizada.\n",
    "\n",
    "- Cadeia biquadrática linear ($H_3$), dada por\n",
    "\n",
    "$$\\mathcal{H_2} = \\sum^N_{l=1}[\\cos \\theta (S_l S_{l+1}) + \\sin\\theta (S_l S_{l+1})]$$\n",
    "\n",
    "com $\\theta \\in [0,2\\pi)$ representa o vínculo entre vizinhos. Esse modelo apresenta Haldane, Trimerizado, Ferromagnético e Dimerizado."
   ]
  },
  {
   "cell_type": "markdown",
   "metadata": {},
   "source": [
    "### Implementação do modelos\n",
    "\n",
    "Os modelos foram implementados no arquivo `hamiltonians.py`, usando POO. Os modelos são construídos baseados em uma classe `Hamiltonian`."
   ]
  },
  {
   "cell_type": "markdown",
   "metadata": {},
   "source": []
  },
  {
   "cell_type": "code",
   "execution_count": 19,
   "metadata": {},
   "outputs": [],
   "source": [
    "import hamiltonians"
   ]
  },
  {
   "cell_type": "markdown",
   "metadata": {},
   "source": [
    "### Parâmetros dos modelos:\n",
    "\n",
    "Os parâmetros utilizados no modelo estão a seguir"
   ]
  },
  {
   "cell_type": "code",
   "execution_count": 20,
   "metadata": {},
   "outputs": [],
   "source": [
    "H_1_parameters = np.linspace(-4, 4, 80)\n",
    "Jzs, Ds = H_1_parameters, H_1_parameters\n",
    "\n",
    "# H2 parameters\n",
    "\n",
    "# I'm pretty sure that the original article\n",
    "# is wrong here.\n",
    "\n",
    "#\n",
    "Deltas = np.linspace(0, 1, 20)\n",
    "deltas = np.linspace(-1.5,2.5, 316)\n",
    "\n",
    "# H3 parameters\n",
    "thetas = np.linspace(0,2*np.pi,2000)"
   ]
  },
  {
   "cell_type": "markdown",
   "metadata": {},
   "source": [
    "## Correladores\n",
    "\n",
    "Os modelos foram implementados no arquivo `correlators.py`, usando POO. A ideia de deixar separado do hamiltoniano é para não precisarmos inicializar os correladores caso não queiramos mudar o número de spin."
   ]
  },
  {
   "cell_type": "code",
   "execution_count": 21,
   "metadata": {},
   "outputs": [],
   "source": [
    "import correlators"
   ]
  },
  {
   "cell_type": "markdown",
   "metadata": {},
   "source": [
    "## Coleta de dados"
   ]
  },
  {
   "cell_type": "markdown",
   "metadata": {},
   "source": [
    "### H1"
   ]
  },
  {
   "cell_type": "code",
   "execution_count": 22,
   "metadata": {},
   "outputs": [],
   "source": [
    "%%script false --no-raise-error\n",
    "N = 4\n",
    "n_sup = int(N/2+1)\n",
    "\n",
    "with open(f\"data/H1/N={N}.csv\", 'w') as fh:\n",
    "    fh.write(\"Jz, D, \" + \", \".join([f\"S1S{i}{j}\" for i in range(1, n_sup+1) for j in ['x', 'y', 'z']]) + \", \"+\n",
    "    \", \".join([f\"prodSi{j}\" for j in ['x', 'y', 'z']]))\n",
    "\n",
    "    corr = correlators.Correlators(N)\n",
    "\n",
    "    for Jz in Jzs:\n",
    "        for D in Ds:\n",
    "            line = [Jz, D]\n",
    "            H1 = hamiltonians.XXZUniaxialSingleIonAnisotropy(N, Jz, D)\n",
    "            gstate = H1.gstate \n",
    "            gstate_dagg = np.conj(gstate).T\n",
    "            for i in range(n_sup):\n",
    "                line.append(np.real(gstate_dagg @ corr.S1Six(i) @ gstate))\n",
    "                line.append(np.real(gstate_dagg @ corr.S1Siy(i) @ gstate))\n",
    "                line.append(np.real(gstate_dagg @ corr.S1Siz(i) @ gstate))\n",
    "            \n",
    "            line.append(np.real(gstate_dagg @ corr.prodSix @ gstate))\n",
    "            line.append(np.real(gstate_dagg @ corr.prodSiy @ gstate))\n",
    "            line.append(np.real(gstate_dagg @ corr.prodSiz @ gstate))\n",
    "\n",
    "            fh.write(\"\\n\"+\", \".join([str(i) for i in line]))\n"
   ]
  },
  {
   "cell_type": "markdown",
   "metadata": {},
   "source": [
    "### H2"
   ]
  },
  {
   "cell_type": "code",
   "execution_count": 23,
   "metadata": {},
   "outputs": [],
   "source": [
    "%%script false --no-raise-error\n",
    "N = 4\n",
    "n_sup = int(N/2+1)\n",
    "\n",
    "with open(f\"data/H2/N={N}.csv\", 'w') as fh:\n",
    "    fh.write(\"Delta, delta, \" + \", \".join([f\"S1S{i}{j}\" for i in range(1, n_sup+1) for j in ['x', 'y', 'z']]) + \", \"+\n",
    "    \", \".join([f\"prodSi{j}\" for j in ['x', 'y', 'z']]))\n",
    "\n",
    "    corr = correlators.Correlators(N)\n",
    "\n",
    "    for Delta in Deltas:\n",
    "        for delta in deltas:\n",
    "            line = [Delta, delta]\n",
    "            H2 = hamiltonians.BondAlternatingXXZ(N, Delta, delta)\n",
    "            gstate = H2.gstate \n",
    "            gstate_dagg = np.conj(gstate).T\n",
    "            for i in range(n_sup):\n",
    "                line.append(np.real(gstate_dagg @ corr.S1Six(i) @ gstate))\n",
    "                line.append(np.real(gstate_dagg @ corr.S1Siy(i) @ gstate))\n",
    "                line.append(np.real(gstate_dagg @ corr.S1Siz(i) @ gstate))\n",
    "            \n",
    "            line.append(np.real(gstate_dagg @ corr.prodSix @ gstate))\n",
    "            line.append(np.real(gstate_dagg @ corr.prodSiy @ gstate))\n",
    "            line.append(np.real(gstate_dagg @ corr.prodSiz @ gstate))\n",
    "\n",
    "            fh.write(\"\\n\"+\", \".join([str(i) for i in line]))"
   ]
  },
  {
   "cell_type": "markdown",
   "metadata": {},
   "source": [
    "## H3"
   ]
  },
  {
   "cell_type": "code",
   "execution_count": 24,
   "metadata": {},
   "outputs": [],
   "source": [
    "%%script false --no-raise-error\n",
    "N = 8\n",
    "n_sup = int(N/2+1)\n",
    "\n",
    "with open(f\"data/H3/N={N}.csv\", 'w') as fh:\n",
    "    fh.write(\"theta, \" + \", \".join([f\"S1S{i}{j}\" for i in range(1, n_sup+1) for j in ['x', 'y', 'z']]) + \", \"+\n",
    "    \", \".join([f\"prodSi{j}\" for j in ['x', 'y', 'z']]))\n",
    "\n",
    "    corr = correlators.Correlators(N)\n",
    "\n",
    "    for theta in thetas:\n",
    "        line = [theta]\n",
    "        H3 = hamiltonians.BilinearBiquadratic(N, theta)\n",
    "        gstate = H3.gstate \n",
    "        gstate_dagg = np.conj(gstate).T\n",
    "        for i in range(n_sup):\n",
    "            line.append(np.real(gstate_dagg @ corr.S1Six(i) @ gstate))\n",
    "            line.append(np.real(gstate_dagg @ corr.S1Siy(i) @ gstate))\n",
    "            line.append(np.real(gstate_dagg @ corr.S1Siz(i) @ gstate))\n",
    "            \n",
    "        line.append(np.real(gstate_dagg @ corr.prodSix @ gstate))\n",
    "        line.append(np.real(gstate_dagg @ corr.prodSiy @ gstate))\n",
    "        line.append(np.real(gstate_dagg @ corr.prodSiz @ gstate))\n",
    "    \n",
    "        fh.write(\"\\n\"+\", \".join([str(i) for i in line]))"
   ]
  },
  {
   "cell_type": "markdown",
   "metadata": {},
   "source": [
    "## ML Phase Classifier"
   ]
  },
  {
   "cell_type": "markdown",
   "metadata": {},
   "source": [
    "### We need to assign the labels to each value\n",
    "\n",
    "Thanks to Mahlow for that"
   ]
  },
  {
   "cell_type": "code",
   "execution_count": 25,
   "metadata": {},
   "outputs": [],
   "source": [
    "phases = ['Haldane', 'Trimer', 'Ferro', 'Dimer',\n",
    "          'LD', 'XY1', 'Neel', 'XY2']\n",
    "colors = ['red', 'purple', 'blue', 'green', 'yellow',\n",
    "           'cyan', 'olive', 'black']\n",
    "\n",
    "phase_color = {phases[i]: colors[i] for i in range(len(phases))}"
   ]
  },
  {
   "cell_type": "code",
   "execution_count": 26,
   "metadata": {},
   "outputs": [],
   "source": [
    "df_H1_theorical = pd.read_csv('data/theoricals/XXZ.csv', header=None)\n",
    "df_H2_theorical = pd.read_csv('data/theoricals/bond-alternating.csv', header=None)\n",
    "df_H3_theorical = pd.DataFrame([0.25, 0.5, 1.25, 1.75])"
   ]
  },
  {
   "cell_type": "code",
   "execution_count": 27,
   "metadata": {},
   "outputs": [],
   "source": [
    "def assign_labels(dfs_corr: dict[str, pd.DataFrame]):\n",
    "    \n",
    "    # labels XXZ correlations\n",
    "    H1_labels = []\n",
    "    for i in range(0, len(dfs_corr['H1'])):\n",
    "        x = dfs_corr['H1'].values[i, 0]\n",
    "        y = dfs_corr['H1'].values[i, 1]\n",
    "\n",
    "        # Ferro/LD phases\n",
    "        if x < -1.8375250:\n",
    "            if y < (-0.1009)*(x**2) - 1.6701*x - 1.329:\n",
    "                H1_labels.append(2)\n",
    "            else:\n",
    "                H1_labels.append(4)\n",
    "\n",
    "        # Ferro/XY phases\n",
    "        elif x >= -1.837525 and x < -0.278:\n",
    "            if y >-0.0741*x**3 - 0.3014*x**2 - 0.872*x + 0.3499:\n",
    "                H1_labels.append(4)\n",
    "            elif y < -5.1127*x**5 - 27.865*x**4 - 57.426*x**3 - 55.858*x**2 - 27.638*x - 6.4824:\n",
    "                H1_labels.append(2)\n",
    "            else:\n",
    "                H1_labels.append(5)\n",
    "\n",
    "        elif x >= -0.278 and x < 0:\n",
    "            if y >-0.0741*x**3 - 0.3014*x**2 - 0.872*x + 0.3499:\n",
    "                H1_labels.append(4)\n",
    "            elif y < -5.1127*x**5 - 27.865*x**4 - 57.426*x**3 - 55.858*x**2 - 27.638*x - 6.4824:\n",
    "                H1_labels.append(2)\n",
    "            elif y < 4.595*x**2 + 1.393*x - 2.007:\n",
    "                H1_labels.append(7)\n",
    "            else:\n",
    "                H1_labels.append(5)\n",
    "\n",
    "        # LD/Haldane phases\n",
    "        elif x >= 0 and x < 3.28405:\n",
    "            if y > 0.0807*x**2 + 0.5418*x + 0.3465:\n",
    "                H1_labels.append(4)\n",
    "            elif y > -0.0462*x**3 + 0.154*x**2 + 1.5213*x - 2.0196:\n",
    "                H1_labels.append(0)\n",
    "            else:\n",
    "                H1_labels.append(6)\n",
    "\n",
    "        # LD/Neel phases\n",
    "        elif x >= 3.28405 and x <= 4:\n",
    "            if y > 1.0906*x - 0.583:\n",
    "                H1_labels.append(4)\n",
    "            else:\n",
    "                H1_labels.append(6)\n",
    "\n",
    "    dfs_corr['H1'][\"labels\"]= [phases[i] for i in H1_labels]\n",
    "    \n",
    "    ######################################################################\n",
    "    # labels Bond correlations\n",
    "    H2_labels = []\n",
    "    for i in range(0, len(dfs_corr['H2'])):\n",
    "        x = dfs_corr['H2'].values[i, 1]\n",
    "        y = dfs_corr['H2'].values[i, 0]\n",
    "        \n",
    "\n",
    "        # Ferro phases\n",
    "        if x < -1:\n",
    "            H2_labels.append(2)\n",
    "\n",
    "        # XY/Dimer phases\n",
    "        elif x >= -1 and x < 0:\n",
    "            if y > 0.1435*x**2 - 0.6447*x + 0.2197:\n",
    "                H2_labels.append(3)\n",
    "            else:\n",
    "                H2_labels.append(5)\n",
    "\n",
    "        # HALDANE/DIMER\n",
    "        elif x >= 0 and x < 1:\n",
    "            if y > 0.0043*x**3 - 0.0384*x**2 + 0.0631*x + 0.2317:\n",
    "                H2_labels.append(3)\n",
    "            else:\n",
    "                H2_labels.append(0)   \n",
    "\n",
    "        # Haldane/Neel phases\n",
    "        elif x >= 1.0 and x <= 1.2:\n",
    "            if y > -0.0872*x**2 + 0.6067*x - 0.2264:\n",
    "                H2_labels.append(3)\n",
    "            elif y > -247.1*x**3 + 826.12*x**2 - 921.85*x + 343.48:\n",
    "                H2_labels.append(6)\n",
    "            else:\n",
    "                H2_labels.append(0)\n",
    "\n",
    "        # Neel/Dimmer phases\n",
    "        elif x > 1.2 and x <= 2.5:\n",
    "            if y > -0.0872*x**2 + 0.6067*x - 0.2264:\n",
    "                H2_labels.append(3)\n",
    "            else:\n",
    "                H2_labels.append(6)\n",
    "\n",
    "    dfs_corr['H2'][\"labels\"]= [phases[i] for i in H2_labels]\n",
    "\n",
    "    ######################################################################\n",
    "    # Labels bilinear\n",
    "    H3_labels = []\n",
    "    \n",
    "    for i in range(0, len(dfs_corr['H3'])):\n",
    "        # Haldane phases\n",
    "        if dfs_corr['H3'].values[i,0] <= 0.25*np.pi and dfs_corr['H3'].values[i,0] >= 0 or dfs_corr['H3'].values[i,0] > 1.75*np.pi and dfs_corr['H3'].values[i,0] <= 2*np.pi:\n",
    "            H3_labels.append(0)\n",
    "        # Trimer phases\n",
    "        elif dfs_corr['H3'].values[i,0] > 0.25*np.pi and dfs_corr['H3'].values[i,0] <= 0.5*np.pi:\n",
    "            H3_labels.append(1)\n",
    "        # Ferro phases\n",
    "        elif dfs_corr['H3'].values[i,0] > 0.5*np.pi and dfs_corr['H3'].values[i,0] <= 1.25*np.pi:\n",
    "            H3_labels.append(2)\n",
    "        # Dimer phases\n",
    "        else:\n",
    "            H3_labels.append(3)\n",
    "\n",
    "    dfs_corr['H3'][\"labels\"]= [phases[i] for i in H3_labels]\n",
    "    "
   ]
  },
  {
   "cell_type": "code",
   "execution_count": 51,
   "metadata": {},
   "outputs": [],
   "source": [
    "def read_correlations(N: int) -> dict[str, pd.DataFrame]:\n",
    "    dfs_corr = {\n",
    "    }\n",
    "    for i in range(1,4):\n",
    "        dfs_corr[f'H{i}'] = pd.read_csv(f'data/H{i}/N={N}.csv')\n",
    "    \n",
    "    assign_labels(dfs_corr)\n",
    "    \n",
    "    # Normalization, if done, must happen AFTER this point\n",
    "\n",
    "    return dfs_corr\n",
    "\n",
    "dfs_corr = read_correlations(8)"
   ]
  },
  {
   "cell_type": "code",
   "execution_count": 56,
   "metadata": {},
   "outputs": [],
   "source": [
    "def PCA_transform(df):\n",
    "    pca = PCA(2)\n",
    "\n",
    "    X_train = df.values[:,2:-1]\n",
    "    X_train = Normalizer().fit_transform(X_train)\n",
    "    y_train = df.values[:,-1]\n",
    "\n",
    "\n",
    "    pca_result = pca.fit_transform(X_train)\n",
    "    classes = np.unique(y_train)\n",
    "    plt.figure(figsize=(8,8))\n",
    "    for c in classes:\n",
    "        nodes = np.where(y_train == c)\n",
    "        plt.scatter(pca_result[nodes,0], pca_result[nodes,1], s=50, color = phase_color[c], \n",
    "                    label = c)\n",
    "    plt.legend()\n",
    "    plt.xlabel(\"First component\", fontsize=20)\n",
    "    plt.ylabel(\"Second component\", fontsize=20)\n",
    "    plt.xticks(color='k', size=20)\n",
    "    plt.yticks(color='k', size=20)\n",
    "    plt.show(True)\n"
   ]
  },
  {
   "cell_type": "code",
   "execution_count": 59,
   "metadata": {},
   "outputs": [
    {
     "data": {
      "image/png": "[encoded data removed]",
      "text/plain": [
       "<Figure size 800x800 with 1 Axes>"
      ]
     },
     "metadata": {},
     "output_type": "display_data"
    }
   ],
   "source": [
    "PCA_transform(dfs_corr['H3'])"
   ]
  },
  {
   "cell_type": "markdown",
   "metadata": {},
   "source": [
    "## Using KNN to classify the quantum phases\n"
   ]
  },
  {
   "cell_type": "code",
   "execution_count": null,
   "metadata": {},
   "outputs": [],
   "source": [
    "def classify(dfs_corr: dict, test_df, ignored_phases):\n",
    "    \n",
    "    \n",
    "\n",
    "    knn = KNeighborsClassifier(n_neighbors=50)\n"
   ]
  }
 ],
 "metadata": {
  "kernelspec": {
   "display_name": "Python 3",
   "language": "python",
   "name": "python3"
  },
  "language_info": {
   "codemirror_mode": {
    "name": "ipython",
    "version": 3
   },
   "file_extension": ".py",
   "mimetype": "text/x-python",
   "name": "python",
   "nbconvert_exporter": "python",
   "pygments_lexer": "ipython3",
   "version": "3.10.12"
  }
 },
 "nbformat": 4,
 "nbformat_minor": 2
}
