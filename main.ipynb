{
 "cells": [
  {
   "cell_type": "markdown",
   "metadata": {},
   "source": [
    "# Revisão do artigo “Model-independent quantum phases classifier”"
   ]
  },
  {
   "cell_type": "markdown",
   "metadata": {},
   "source": [
    "## Modelos Físicos\n",
    "\n",
    "Foram usados os hamiltonianos a seguir\n",
    "\n",
    "- cadeias XXZ com anisotropia de ion uniaxial ($H_1$), dado por:\n",
    "\n",
    "$$\\mathcal{H_1} = \\sum^N_{l=1}[J(S_l^xS_{l+1}^x + S^y_lS^y_{l+1}) + J_zS_l^zS_{l+1}^z] + D \\sum^N_{l=1}S_l^{z2} $$\n",
    "\n",
    "Onde $S_l$ é o operador spin-1 agindo sobre o sítio $l$ de uma cadeia de $N$ sítios. D representa a anisotropia de ion único e $J=1, J_z$ são os acoplamentos entre os spins. O diagrama de fase desse sistema contém: Haldane, Large D, XY1, XY2, Ferromagnético e Néel.\n",
    "\n",
    "- cadeia de vínculo alternante XXZ ($H_2$). O Hamiltoniano é dado por: \n",
    "\n",
    "$$\\mathcal{H_2} = \\sum^N_{l=1}\\left[1-\\delta(-1)^l\\right](S_l^xS_{l+1}^x + S^y_lS^y_{l+1} + \\Delta S_l^zS_{l+1}^z) $$\n",
    "\n",
    "Aqui, $\\Delta$ representa a força a anisotropia de Ising da interação spin órbita no material magnético. Já  o termo $\\delta$ representa o vínculo alternante que descreve dimerização.\n",
    "\n",
    "Tal sistema apresenta fase ferromagnéica, XX1, Néel, Haldane e Dimerizada.\n",
    "\n",
    "- Cadeia biquadrática linear ($H_3$), dada por\n",
    "\n",
    "$$\\mathcal{H_2} = \\sum^N_{l=1}[\\cos \\theta (S_l S_{l+1}) + \\sin\\theta (S_l S_{l+1})]$$\n",
    "\n",
    "com $\\theta \\in [0,2\\pi)$ representa o vínculo entre vizinhos. Esse modelo apresenta Haldane, Trimerizado, Ferromagnético e Dimerizado."
   ]
  },
  {
   "cell_type": "markdown",
   "metadata": {},
   "source": [
    "### Implementação do modelos\n",
    "\n",
    "Os modelos foram implementados no arquivo `hamiltonians.py`, usando POO. Os modelos são construídos baseados em uma classe `Hamiltonian`."
   ]
  },
  {
   "cell_type": "markdown",
   "metadata": {},
   "source": []
  },
  {
   "cell_type": "code",
   "execution_count": 1,
   "metadata": {},
   "outputs": [],
   "source": [
    "import hamiltonians"
   ]
  },
  {
   "cell_type": "markdown",
   "metadata": {},
   "source": [
    "### Parâmetros dos modelos:\n",
    "\n",
    "Os parâmetros utilizados no modelo estão a seguir"
   ]
  },
  {
   "cell_type": "code",
   "execution_count": 2,
   "metadata": {},
   "outputs": [],
   "source": [
    "import numpy as np"
   ]
  },
  {
   "cell_type": "code",
   "execution_count": 3,
   "metadata": {},
   "outputs": [],
   "source": [
    "# H1 parameters\n",
    "H_1_parameters = np.arange(-4, 4, 0.1)\n",
    "Jzs, Ds = H_1_parameters, H_1_parameters\n",
    "\n",
    "# H2 parameters\n",
    "Deltas = np.arange(0,1, 0.005)\n",
    "deltas = np.arange(-1.5,2.5, 0.0125)\n",
    "\n",
    "# H3 parameters\n",
    "thetas = np.arange(0,2*np.pi,0.001*np.pi)\n"
   ]
  },
  {
   "cell_type": "markdown",
   "metadata": {},
   "source": [
    "## Correladores\n",
    "\n",
    "Os modelos foram implementados no arquivo `correlators.py`, usando POO. A ideia de deixar separado do hamiltoniano é para não precisarmos inicializar os correladores caso não queiramos mudar o número de spin."
   ]
  },
  {
   "cell_type": "code",
   "execution_count": 4,
   "metadata": {},
   "outputs": [],
   "source": [
    "import correlators"
   ]
  },
  {
   "cell_type": "markdown",
   "metadata": {},
   "source": [
    "## Coleta de dados"
   ]
  },
  {
   "cell_type": "markdown",
   "metadata": {},
   "source": [
    "### H1"
   ]
  },
  {
   "cell_type": "code",
   "execution_count": null,
   "metadata": {},
   "outputs": [],
   "source": [
    "N = 8\n",
    "n_sup = int(N/2+1)\n",
    "\n",
    "with open(f\"data/H1/N={N}.csv\", 'w') as fh:\n",
    "    fh.write(\"Jz, D, \" + \", \".join([f\"S1S{i}{j}\" for i in range(1, n_sup+1) for j in ['x', 'y', 'z']]) + \", \"+\n",
    "    \", \".join([f\"prodSi{j}\" for j in ['x', 'y', 'z']]))\n",
    "\n",
    "    corr = correlators.Correlators(N)\n",
    "\n",
    "    for Jz in Jzs:\n",
    "        for D in Ds:\n",
    "            data = [Jz, D]\n",
    "            H1 = hamiltonians.XXZUniaxialSingleIonAnisotropy(N, Jz, D)\n",
    "            gstate = H1.gstate \n",
    "            for i in range(n_sup):\n",
    "                data.append(np.real(np.conj(gstate).T @ corr.S1Six(i) @ gstate))\n",
    "                data.append(np.real(np.conj(gstate).T @ corr.S1Siy(i) @ gstate))\n",
    "                data.append(np.real(np.conj(gstate).T @ corr.S1Siz(i) @ gstate))\n",
    "            \n",
    "            data.append(np.real(np.conj(gstate).T @ corr.prodSix @ gstate))\n",
    "            data.append(np.real(np.conj(gstate).T @ corr.prodSiy @ gstate))\n",
    "            data.append(np.real(np.conj(gstate).T @ corr.prodSiz @ gstate))\n",
    "\n",
    "            fh.write(\"\\n\"+\", \".join([str(i) for i in data]))"
   ]
  },
  {
   "cell_type": "code",
   "execution_count": null,
   "metadata": {},
   "outputs": [],
   "source": []
  }
 ],
 "metadata": {
  "kernelspec": {
   "display_name": "Python 3",
   "language": "python",
   "name": "python3"
  },
  "language_info": {
   "codemirror_mode": {
    "name": "ipython",
    "version": 3
   },
   "file_extension": ".py",
   "mimetype": "text/x-python",
   "name": "python",
   "nbconvert_exporter": "python",
   "pygments_lexer": "ipython3",
   "version": "3.10.12"
  }
 },
 "nbformat": 4,
 "nbformat_minor": 2
}
